{
 "cells": [
  {
   "cell_type": "code",
   "execution_count": 6,
   "metadata": {},
   "outputs": [],
   "source": [
    "import pandas as pd\n",
    "import matplotlib.pyplot as plt"
   ]
  },
  {
   "cell_type": "code",
   "execution_count": 7,
   "metadata": {},
   "outputs": [],
   "source": [
    "df = pd.read_csv(\"epa_hap_daily_summary.csv\")"
   ]
  },
  {
   "cell_type": "code",
   "execution_count": 8,
   "metadata": {},
   "outputs": [],
   "source": [
    "df_12 = df.loc[df[\"parameter_name\"] == \"12-Dichloropropane\", [\"latitude\", \"longitude\", \n",
    "                                                              \"state_code\", \"county_code\",\n",
    "                                                              \"first_max_value\"]]"
   ]
  },
  {
   "cell_type": "code",
   "execution_count": 17,
   "metadata": {},
   "outputs": [
    {
     "data": {
      "text/html": [
       "<div>\n",
       "<style scoped>\n",
       "    .dataframe tbody tr th:only-of-type {\n",
       "        vertical-align: middle;\n",
       "    }\n",
       "\n",
       "    .dataframe tbody tr th {\n",
       "        vertical-align: top;\n",
       "    }\n",
       "\n",
       "    .dataframe thead th {\n",
       "        text-align: right;\n",
       "    }\n",
       "</style>\n",
       "<table border=\"1\" class=\"dataframe\">\n",
       "  <thead>\n",
       "    <tr style=\"text-align: right;\">\n",
       "      <th></th>\n",
       "      <th>latitude</th>\n",
       "      <th>longitude</th>\n",
       "      <th>state_code</th>\n",
       "      <th>county_code</th>\n",
       "      <th>first_max_value</th>\n",
       "    </tr>\n",
       "  </thead>\n",
       "  <tbody>\n",
       "    <tr>\n",
       "      <th>41</th>\n",
       "      <td>40.580270</td>\n",
       "      <td>-74.198320</td>\n",
       "      <td>36</td>\n",
       "      <td>85</td>\n",
       "      <td>0.00</td>\n",
       "    </tr>\n",
       "    <tr>\n",
       "      <th>48</th>\n",
       "      <td>32.910556</td>\n",
       "      <td>-96.669167</td>\n",
       "      <td>48</td>\n",
       "      <td>113</td>\n",
       "      <td>0.02</td>\n",
       "    </tr>\n",
       "    <tr>\n",
       "      <th>79</th>\n",
       "      <td>26.309858</td>\n",
       "      <td>-98.183101</td>\n",
       "      <td>48</td>\n",
       "      <td>215</td>\n",
       "      <td>0.02</td>\n",
       "    </tr>\n",
       "    <tr>\n",
       "      <th>117</th>\n",
       "      <td>45.561370</td>\n",
       "      <td>-122.667900</td>\n",
       "      <td>41</td>\n",
       "      <td>51</td>\n",
       "      <td>0.00</td>\n",
       "    </tr>\n",
       "    <tr>\n",
       "      <th>126</th>\n",
       "      <td>40.049616</td>\n",
       "      <td>-75.240822</td>\n",
       "      <td>42</td>\n",
       "      <td>101</td>\n",
       "      <td>0.00</td>\n",
       "    </tr>\n",
       "  </tbody>\n",
       "</table>\n",
       "</div>"
      ],
      "text/plain": [
       "      latitude   longitude  state_code  county_code  first_max_value\n",
       "41   40.580270  -74.198320          36           85             0.00\n",
       "48   32.910556  -96.669167          48          113             0.02\n",
       "79   26.309858  -98.183101          48          215             0.02\n",
       "117  45.561370 -122.667900          41           51             0.00\n",
       "126  40.049616  -75.240822          42          101             0.00"
      ]
     },
     "execution_count": 17,
     "metadata": {},
     "output_type": "execute_result"
    }
   ],
   "source": [
    "df_12.head()"
   ]
  },
  {
   "cell_type": "code",
   "execution_count": 10,
   "metadata": {},
   "outputs": [],
   "source": [
    "df_cl = df.loc[df[\"parameter_name\"] == \"Chloroform\", [\"latitude\", \"longitude\", \n",
    "                                                       \"state_code\", \"county_code\",\n",
    "                                                       \"first_max_value\"]]"
   ]
  },
  {
   "cell_type": "code",
   "execution_count": 11,
   "metadata": {},
   "outputs": [
    {
     "data": {
      "text/html": [
       "<div>\n",
       "<style scoped>\n",
       "    .dataframe tbody tr th:only-of-type {\n",
       "        vertical-align: middle;\n",
       "    }\n",
       "\n",
       "    .dataframe tbody tr th {\n",
       "        vertical-align: top;\n",
       "    }\n",
       "\n",
       "    .dataframe thead th {\n",
       "        text-align: right;\n",
       "    }\n",
       "</style>\n",
       "<table border=\"1\" class=\"dataframe\">\n",
       "  <thead>\n",
       "    <tr style=\"text-align: right;\">\n",
       "      <th></th>\n",
       "      <th>latitude</th>\n",
       "      <th>longitude</th>\n",
       "      <th>state_code</th>\n",
       "      <th>county_code</th>\n",
       "      <th>first_max_value</th>\n",
       "    </tr>\n",
       "  </thead>\n",
       "  <tbody>\n",
       "    <tr>\n",
       "      <th>18</th>\n",
       "      <td>44.847370</td>\n",
       "      <td>-92.995400</td>\n",
       "      <td>27</td>\n",
       "      <td>163</td>\n",
       "      <td>0.01000</td>\n",
       "    </tr>\n",
       "    <tr>\n",
       "      <th>103</th>\n",
       "      <td>29.385234</td>\n",
       "      <td>-94.931520</td>\n",
       "      <td>48</td>\n",
       "      <td>167</td>\n",
       "      <td>0.01000</td>\n",
       "    </tr>\n",
       "    <tr>\n",
       "      <th>105</th>\n",
       "      <td>43.608056</td>\n",
       "      <td>-72.982778</td>\n",
       "      <td>50</td>\n",
       "      <td>21</td>\n",
       "      <td>0.02047</td>\n",
       "    </tr>\n",
       "    <tr>\n",
       "      <th>205</th>\n",
       "      <td>26.226210</td>\n",
       "      <td>-98.291069</td>\n",
       "      <td>48</td>\n",
       "      <td>215</td>\n",
       "      <td>0.01000</td>\n",
       "    </tr>\n",
       "    <tr>\n",
       "      <th>220</th>\n",
       "      <td>31.775942</td>\n",
       "      <td>-106.413177</td>\n",
       "      <td>48</td>\n",
       "      <td>141</td>\n",
       "      <td>0.01000</td>\n",
       "    </tr>\n",
       "  </tbody>\n",
       "</table>\n",
       "</div>"
      ],
      "text/plain": [
       "      latitude   longitude  state_code  county_code  first_max_value\n",
       "18   44.847370  -92.995400          27          163          0.01000\n",
       "103  29.385234  -94.931520          48          167          0.01000\n",
       "105  43.608056  -72.982778          50           21          0.02047\n",
       "205  26.226210  -98.291069          48          215          0.01000\n",
       "220  31.775942 -106.413177          48          141          0.01000"
      ]
     },
     "execution_count": 11,
     "metadata": {},
     "output_type": "execute_result"
    }
   ],
   "source": [
    "df_cl.head()"
   ]
  },
  {
   "cell_type": "code",
   "execution_count": 14,
   "metadata": {},
   "outputs": [],
   "source": [
    "df_12.to_csv(\"12-Dichloropropane.csv\", sep=',')"
   ]
  },
  {
   "cell_type": "code",
   "execution_count": 15,
   "metadata": {},
   "outputs": [],
   "source": [
    "df_cl.to_csv(\"Chloroform.csv\", sep = \",\")"
   ]
  },
  {
   "cell_type": "code",
   "execution_count": 4,
   "metadata": {},
   "outputs": [
    {
     "data": {
      "text/plain": [
       "Index(['state_code', 'county_code', 'site_num', 'parameter_code', 'poc',\n",
       "       'latitude', 'longitude', 'datum', 'parameter_name', 'sample_duration',\n",
       "       'pollutant_standard', 'date_local', 'units_of_measure', 'event_type',\n",
       "       'observation_count', 'observation_percent', 'arithmetic_mean',\n",
       "       'first_max_value', 'first_max_hour', 'aqi', 'method_code',\n",
       "       'method_name', 'local_site_name', 'address', 'state_name',\n",
       "       'county_name', 'city_name', 'cbsa_name', 'date_of_last_change'],\n",
       "      dtype='object')"
      ]
     },
     "execution_count": 4,
     "metadata": {},
     "output_type": "execute_result"
    }
   ],
   "source": [
    "df.columns"
   ]
  },
  {
   "cell_type": "code",
   "execution_count": 5,
   "metadata": {},
   "outputs": [
    {
     "name": "stdout",
     "output_type": "stream",
     "text": [
      "<class 'pandas.core.frame.DataFrame'>\n",
      "RangeIndex: 8097069 entries, 0 to 8097068\n",
      "Data columns (total 29 columns):\n",
      "state_code             int64\n",
      "county_code            int64\n",
      "site_num               int64\n",
      "parameter_code         int64\n",
      "poc                    int64\n",
      "latitude               float64\n",
      "longitude              float64\n",
      "datum                  object\n",
      "parameter_name         object\n",
      "sample_duration        object\n",
      "pollutant_standard     float64\n",
      "date_local             object\n",
      "units_of_measure       object\n",
      "event_type             object\n",
      "observation_count      int64\n",
      "observation_percent    float64\n",
      "arithmetic_mean        float64\n",
      "first_max_value        float64\n",
      "first_max_hour         int64\n",
      "aqi                    float64\n",
      "method_code            int64\n",
      "method_name            object\n",
      "local_site_name        object\n",
      "address                object\n",
      "state_name             object\n",
      "county_name            object\n",
      "city_name              object\n",
      "cbsa_name              object\n",
      "date_of_last_change    object\n",
      "dtypes: float64(7), int64(8), object(14)\n",
      "memory usage: 1.7+ GB\n"
     ]
    }
   ],
   "source": [
    "df.info()"
   ]
  },
  {
   "cell_type": "code",
   "execution_count": null,
   "metadata": {},
   "outputs": [],
   "source": []
  }
 ],
 "metadata": {
  "kernelspec": {
   "display_name": "Python 3",
   "language": "python",
   "name": "python3"
  },
  "language_info": {
   "codemirror_mode": {
    "name": "ipython",
    "version": 3
   },
   "file_extension": ".py",
   "mimetype": "text/x-python",
   "name": "python",
   "nbconvert_exporter": "python",
   "pygments_lexer": "ipython3",
   "version": "3.7.0"
  }
 },
 "nbformat": 4,
 "nbformat_minor": 2
}
